{
 "cells": [
  {
   "cell_type": "code",
   "execution_count": 52,
   "metadata": {},
   "outputs": [],
   "source": [
    "from langchain_community.document_loaders import YoutubeLoader\n",
    "\n",
    "loader = YoutubeLoader.from_youtube_url(\n",
    "    \"https://www.youtube.com/watch?v=QsYGlZkevEg\",\n",
    "    add_video_info=True,\n",
    "    translation=\"en\",\n",
    ")\n",
    "docs = loader.load()"
   ]
  },
  {
   "cell_type": "code",
   "execution_count": 53,
   "metadata": {},
   "outputs": [
    {
     "name": "stdout",
     "output_type": "stream",
     "text": [
      "[Document(metadata={'source': 'QsYGlZkevEg', 'title': 'Pedro Pascal Monologue - SNL', 'description': 'Unknown', 'view_count': 1854492, 'thumbnail_url': 'https://i.ytimg.com/vi/QsYGlZkevEg/hq720.jpg', 'publish_date': '2023-02-04 00:00:00', 'length': 224, 'author': 'Saturday Night Live'}, page_content='LADIES AND GENTLEMEN, PEDRO   PASCAL!  [ CHEERS AND APPLAUSE ]  >> THANK YOU, THANK YOU.  THANK YOU VERY MUCH.  I\\'M SO EXCITED TO BE HERE.  THANK YOU.  I SPENT THE LAST YEAR SHOOTING A  SHOW CALLED \"THE LAST OF US\" ON   HBO.  FOR SOME HBO SHOES, YOU GET TO   SHOOT IN A FIVE STAR ITALIAN   RESORT SURROUNDED BY BEAUTIFUL   PEOPLE, BUT I SAID, NO, THAT\\'S   TOO EASY.  I WANT TO SHOOT IN A FREEZING   CANADIAN FOREST WHILE BEING   CHASED AROUND BY A GUY WHOSE   HEAD LOOKS LIKE A GENITAL WART.  IT IS AN HONOR BEING A PART OF   THESE HUGE FRANCHISEs LIKE \"GAME  OF THRONES\" AND \"STAR WARS,\" BUT  I\\'M STILL GETTING USED TO PEOPLE  RECOGNIZING ME.  THE OTHER DAY, A GUY STOPPED ME   ON THE STREET AND SAYS, MY SON   LOVES \"THE MANDALORIAN\" AND THE   NEXT THING I KNOW, I\\'M FACE   TIMING WITH A 6-YEAR-OLD WHO HAS  NO IDEA WHO I AM BECAUSE MY   CHARACTER WEARS A MASK THE   ENTIRE SHOW.  THE GUY IS LIKE, DO THE MANDO   VOICE, BUT IT\\'S LIKE A BEDROOM   VOICE.  WITHOUT THE MASK, IT JUST SOUNDS  PORNY.  PEOPLE WALKING BY ON THE STREET   SEE ME WHISPERING TO A   6-YEAR-OLD KID.  I CAN BRING YOU IN WARM, OR I   CAN BRING YOU IN COLD.  EVEN THOUGH I CAME TO THE U.S.   WHEN I WAS LITTLE, I WAS BORN IN  CHILE, AND I HAVE 34 FIRST   COUSINS WHO ARE STILL THERE.  THEY\\'RE VERY PROUD OF ME.  I KNOW THEY\\'RE PROUD BECAUSE   THEY GIVE MY PHONE NUMBER TO   EVERY PERSON THEY MEET, WHICH   MEANS EVERY DAY, SOMEONE IN   SANTIAGO WILL TEXT ME STUFF   LIKE, CAN YOU COME TO MY   WEDDING, OR CAN YOU SING MY   PRIEST HAPPY BIRTHDAY, OR IS   BABY YODA MEAN IN REAL LIFE.  SO I HAVE TO BE LIKE NO, NO, AND  HIS NAME IS GROGU.  BUT MY COUSINS WEREN\\'T ALWAYS SO  PROUD.  EARLY IN MY CAREER, I PLAYED   SMALL PARTS IN EVERY CRIME SHOW.  I EVEN PLAYED TWO DIFFERENT   CHARACTERS ON \"LAW AND ORDER.\"  TITO CABASSA WHO LOOKED LIKE   THIS.  AND ONE YEAR LATER, I PLAYED   REGGIE LUCKMAN WHO LOOKS LIKE   THIS.  AND THAT, MY FRIENDS, IS CALLED   RANGE.  BUT IT IS AMAZING TO BE HERE,   LIKE I SAID.  I WAS BORN IN CHILE, AND NINE   MONTHS LATER, MY PARENTS FLED   AND BROUGHT ME AND MY SISTER TO   THE U.S.  THEY WERE SO BRAVE, AND WITHOUT   THEM, I WOULDN\\'T BE HERE IN THIS  WONDERFUL COUNTRY, AND I   CERTAINLY WOULDN\\'T BE STANDING   HERE WITH YOU ALL TONIGHT.  SO TO ALL MY FAMILY WATCHING IN   CHILE, I WANT TO SAY   [ SPEAKING NON-ENGLISH ]  WHICH MEANS, I LOVE YOU, I MISS   YOU, AND STOP GIVING OUT MY   PHONE NUMBER.  WE\\'VE GOT AN AMAZING SHOW FOR   YOU TONIGHT.  COLDPLAY IS HERE, SO STICK')]\n"
     ]
    }
   ],
   "source": [
    "print(docs)"
   ]
  },
  {
   "cell_type": "code",
   "execution_count": 54,
   "metadata": {},
   "outputs": [
    {
     "name": "stdout",
     "output_type": "stream",
     "text": [
      "ladies and gentlemen, pedro   pascal!  [ cheers and applause ]  >> thank you, thank you.  thank you very much.  i'm so excited to be here.  thank you.  i spent the last year shooting a  show called \"the last of us\" on   hbo.  for some hbo shoes, you get to   shoot in a five star italian   resort surrounded by beautiful   people, but i said, no, that's   too easy.  i want to shoot in a freezing   canadian forest while being   chased around by a guy whose   head looks like a genital wart.  it is an honor being a part of   these huge franchises like \"game  of thrones\" and \"star wars,\" but  i'm still getting used to people  recognizing me.  the other day, a guy stopped me   on the street and says, my son   loves \"the mandalorian\" and the   next thing i know, i'm face   timing with a 6-year-old who has  no idea who i am because my   character wears a mask the   entire show.  the guy is like, do the mando   voice, but it's like a bedroom   voice.  without the mask, it just sounds  porny.  people walking by on the street   see me whispering to a   6-year-old kid.  i can bring you in warm, or i   can bring you in cold.  even though i came to the u.s.   when i was little, i was born in  chile, and i have 34 first   cousins who are still there.  they're very proud of me.  i know they're proud because   they give my phone number to   every person they meet, which   means every day, someone in   santiago will text me stuff   like, can you come to my   wedding, or can you sing my   priest happy birthday, or is   baby yoda mean in real life.  so i have to be like no, no, and  his name is grogu.  but my cousins weren't always so  proud.  early in my career, i played   small parts in every crime show.  i even played two different   characters on \"law and order.\"  tito cabassa who looked like   this.  and one year later, i played   reggie luckman who looks like   this.  and that, my friends, is called   range.  but it is amazing to be here,   like i said.  i was born in chile, and nine   months later, my parents fled   and brought me and my sister to   the u.s.  they were so brave, and without   them, i wouldn't be here in this  wonderful country, and i   certainly wouldn't be standing   here with you all tonight.  so to all my family watching in   chile, i want to say   [ speaking non-english ]  which means, i love you, i miss   you, and stop giving out my   phone number.  we've got an amazing show for   you tonight.  coldplay is here, so stick\n",
      "{'source': 'QsYGlZkevEg', 'title': 'Pedro Pascal Monologue - SNL', 'description': 'Unknown', 'view_count': 1854492, 'thumbnail_url': 'https://i.ytimg.com/vi/QsYGlZkevEg/hq720.jpg', 'publish_date': '2023-02-04 00:00:00', 'length': 224, 'author': 'Saturday Night Live'}\n"
     ]
    }
   ],
   "source": [
    "print((docs[0].page_content).lower())\n",
    "print((docs[0].metadata))"
   ]
  },
  {
   "cell_type": "code",
   "execution_count": 55,
   "metadata": {},
   "outputs": [
    {
     "name": "stdout",
     "output_type": "stream",
     "text": [
      "author : Saturday Night Live\n",
      "source: QsYGlZkevEg\n",
      "title: Pedro Pascal Monologue - SNL\n",
      "description: Unknown\n",
      "view_count: 1854492\n",
      "thumbnail_url: https://i.ytimg.com/vi/QsYGlZkevEg/hq720.jpg\n",
      "publish_date: 2023-02-04 00:00:00\n",
      "length: 224\n",
      "author: Saturday Night Live\n"
     ]
    }
   ],
   "source": [
    "print(f\"author : {(docs[0].metadata['author'])}\")\n",
    "print(f\"source: {docs[0].metadata['source']}\")\n",
    "print(f\"title: {docs[0].metadata['title']}\")\n",
    "print(f\"description: {docs[0].metadata['description']}\")\n",
    "print(f\"view_count: {docs[0].metadata['view_count']}\")\n",
    "print(f\"thumbnail_url: {docs[0].metadata['thumbnail_url']}\")\n",
    "print(f\"publish_date: {docs[0].metadata['publish_date']}\")\n",
    "print(f\"length: {docs[0].metadata['length']}\")\n",
    "print(f\"author: {docs[0].metadata['author']}\")"
   ]
  },
  {
   "cell_type": "code",
   "execution_count": 56,
   "metadata": {},
   "outputs": [],
   "source": [
    "from langchain_groq import ChatGroq\n",
    "from langchain import hub\n",
    "from langchain.agents import create_tool_calling_agent\n",
    "from langchain.agents import AgentExecutor\n",
    "import os\n",
    "\n",
    "llm = ChatGroq(temperature=0, model_name=\"mixtral-8x7b-32768\",api_key=os.environ[\"GROQ_KEY\"])\n"
   ]
  },
  {
   "cell_type": "code",
   "execution_count": 71,
   "metadata": {},
   "outputs": [],
   "source": [
    "from langchain_core.pydantic_v1 import BaseModel, Field\n",
    "from langchain_core.tools import tool\n",
    "from langchain_core.prompts import ChatPromptTemplate\n",
    "from langchain_core.messages import HumanMessage\n",
    "\n",
    "@tool\n",
    "def summarize(query: str) -> str:\n",
    "    \"\"\"Summarize the text\"\"\"\n",
    "    user_query = query\n",
    "    prompt_template = ChatPromptTemplate.from_messages(\n",
    "        [\n",
    "            (\"system\", \n",
    "            '''You are a smart assistant. \n",
    "            You can summarize that given text from a transcription of a youtube video, \n",
    "            title is {topic}.'''\n",
    "            ),\n",
    "            (\"human\", \"transcription is {transcription}\"),\n",
    "        ]\n",
    "    )\n",
    "\n",
    "    # Create the combined chain using LangChain Expression Language (LCEL)\n",
    "    chain = prompt_template | llm\n",
    "\n",
    "    # Run the chain\n",
    "    result = chain.invoke({\"topic\": docs[0].metadata[\"title\"], \"query\": user_query, \"transcription\": docs[0].page_content})\n",
    "    return result\n",
    "\n",
    "\n",
    "@tool\n",
    "def Quizme():\n",
    "    \"\"\"Create a quiz from the text\"\"\"\n",
    "    prompt_template = ChatPromptTemplate.from_messages(\n",
    "        [\n",
    "            (\n",
    "                \"system\",\n",
    "                \"\"\"You are a smart assistant.Given text is a transcription of a youtube video, \n",
    "                create a quiz with answers based on transcription. 5 questions will be ideal.\n",
    "                video title is {topic}.\"\"\",\n",
    "            ),\n",
    "            (\"human\", \"transcription is {transcription}\"),\n",
    "        ]\n",
    "    )\n",
    "\n",
    "    # Create the combined chain using LangChain Expression Language (LCEL)\n",
    "    chain = prompt_template | llm\n",
    "\n",
    "    # Run the chain\n",
    "    result = chain.invoke(\n",
    "        {\n",
    "            \"topic\": docs[0].metadata[\"title\"],\n",
    "            \"transcription\": docs[0].page_content,\n",
    "        }\n",
    "    )\n",
    "    return result"
   ]
  },
  {
   "cell_type": "code",
   "execution_count": 72,
   "metadata": {},
   "outputs": [],
   "source": [
    "tools = [Quizme]\n",
    "toolLlm = llm.bind_tools(tools)"
   ]
  },
  {
   "cell_type": "code",
   "execution_count": 73,
   "metadata": {},
   "outputs": [
    {
     "name": "stdout",
     "output_type": "stream",
     "text": [
      "content='' additional_kwargs={'tool_calls': [{'id': 'call_q9fq', 'function': {'arguments': '{\"topic\":\"memory\"}', 'name': 'Quizme'}, 'type': 'function'}]} response_metadata={'token_usage': {'completion_tokens': 89, 'prompt_tokens': 1104, 'total_tokens': 1193, 'completion_time': 0.142759328, 'prompt_time': 0.060960082, 'queue_time': None, 'total_time': 0.20371941}, 'model_name': 'mixtral-8x7b-32768', 'system_fingerprint': 'fp_c5f20b5bb1', 'finish_reason': 'tool_calls', 'logprobs': None} id='run-0bfd7249-9ba0-4f63-99f4-87b1ab3d9190-0' tool_calls=[{'name': 'Quizme', 'args': {'topic': 'memory'}, 'id': 'call_q9fq', 'type': 'tool_call'}] usage_metadata={'input_tokens': 1104, 'output_tokens': 89, 'total_tokens': 1193}\n",
      "[{'name': 'Quizme', 'args': {'topic': 'memory'}, 'id': 'call_q9fq', 'type': 'tool_call'}]\n",
      "Quizme\n",
      "{'topic': 'memory'}\n"
     ]
    }
   ],
   "source": [
    "result = toolLlm.invoke(\"Create a quiz about memory\")\n",
    "print(result)\n",
    "print(result.tool_calls)\n",
    "print(result.tool_calls[0][\"name\"])\n",
    "print(result.tool_calls[0][\"args\"])"
   ]
  },
  {
   "cell_type": "code",
   "execution_count": 74,
   "metadata": {},
   "outputs": [
    {
     "name": "stdout",
     "output_type": "stream",
     "text": [
      "\n",
      "\n",
      "\u001b[1m> Entering new AgentExecutor chain...\u001b[0m\n",
      "\u001b[32;1m\u001b[1;3m\n",
      "Invoking: `Quizme` with `{'prompt': 'What is the memory I want to check?'}`\n",
      "\n",
      "\n",
      "\u001b[0m\u001b[36;1m\u001b[1;3mcontent=\"1. What show did Pedro Pascal spend the last year shooting?\\nA. The Last of Us on HBO\\n2. What did Pedro Pascal describe the creature chasing him in The Last of Us as?\\nA. A guy whose head looks like a genital wart\\n3. What did a father ask Pedro Pascal to do when his son recognized him from The Mandalorian?\\nA. Do the Mando voice\\n4. What did Pedro Pascal's cousins from Chile do that he had to correct?\\nA. They gave out his phone number to everyone they meet and asked him questions about Baby Yoda\\n5. What did Pedro Pascal's parents do that allowed him to be in the U.S. and standing on the SNL stage?\\nA. They fled Chile and brought him and his sister to the U.S. nine months after he was born.\" response_metadata={'token_usage': {'completion_tokens': 192, 'prompt_tokens': 1151, 'total_tokens': 1343, 'completion_time': 0.309297708, 'prompt_time': 0.068624108, 'queue_time': None, 'total_time': 0.377921816}, 'model_name': 'mixtral-8x7b-32768', 'system_fingerprint': 'fp_c5f20b5bb1', 'finish_reason': 'stop', 'logprobs': None} id='run-6986778e-b327-4bb0-a0b2-2e1f3451b976-0' usage_metadata={'input_tokens': 1151, 'output_tokens': 192, 'total_tokens': 1343}\u001b[0m\u001b[32;1m\u001b[1;3mIt seems like you want to check your memory on a quiz related to Pedro Pascal. Here's the content of the quiz:\n",
      "\n",
      "1. What show did Pedro Pascal spend the last year shooting?\n",
      "   a) The Last of Us on HBO\n",
      "2. What did Pedro Pascal describe the creature chasing him in The Last of Us as?\n",
      "   a) A guy whose head looks like a genital wart\n",
      "3. What did a father ask Pedro Pascal to do when his son recognized him from The Mandalorian?\n",
      "   a) Do the Mando voice\n",
      "4. What did Pedro Pascal's cousins from Chile do that he had to correct?\n",
      "   a) They gave out his phone number to everyone they meet and asked him questions about Baby Yoda\n",
      "5. What did Pedro Pascal's parents do that allowed him to be in the U.S. and standing on the SNL stage?\n",
      "   a) They fled Chile and brought him and his sister to the U.S. nine months after he was born.\n",
      "\n",
      "Please let me know if you need any further assistance or if you're ready to provide the answers for me to check.\u001b[0m\n",
      "\n",
      "\u001b[1m> Finished chain.\u001b[0m\n"
     ]
    }
   ],
   "source": [
    "from langchain.agents import AgentExecutor, create_tool_calling_agent, tool\n",
    "from langchain_core.prompts import ChatPromptTemplate, MessagesPlaceholder\n",
    "\n",
    "promt = ChatPromptTemplate.from_messages(\n",
    "    [\n",
    "        (\"system\", \"You are a helpful assistant\"),\n",
    "        (\"human\", \"{input}\"),\n",
    "        MessagesPlaceholder(variable_name=\"agent_scratchpad\"),\n",
    "    ]\n",
    ")\n",
    "# Create the ReAct agent using the create_tool_calling_agent function\n",
    "agent = create_tool_calling_agent(\n",
    "    llm=llm,\n",
    "    tools=tools,\n",
    "    prompt=promt,\n",
    ")\n",
    "\n",
    "# Create the agent executor\n",
    "agent_executor = AgentExecutor.from_agent_and_tools(\n",
    "    agent=agent,\n",
    "    tools=tools,\n",
    "    verbose=True,\n",
    "    handle_parsing_errors=True,\n",
    ")\n",
    "\n",
    "# Test the agent with sample queries\n",
    "response = agent_executor.invoke({\"input\": \"I want to check my memory\"})"
   ]
  },
  {
   "cell_type": "code",
   "execution_count": null,
   "metadata": {},
   "outputs": [
    {
     "name": "stdout",
     "output_type": "stream",
     "text": [
      "{'input': 'I want to check my memory', 'output': 'It seems you spent the last year shooting \"The Last of Us\" on HBO, choosing a freezing Canadian forest over a five-star Italian resort. You expressed your excitement for being on SNL and shared your experience with recognition from fans, including a FaceTime call with a 6-year-old who didn\\'t recognize you without your mask from \"The Mandalorian.\"\\n\\nYou also take pride in your Chilean roots, with 34 first cousins who are very proud of you. You recalled your early career with small parts in crime shows, showcasing your range as an actor. You expressed gratitude for your parents who brought you to the U.S. as a baby, allowing you to build a career in this wonderful country.\\n\\nTo conclude, you greeted your family in Chile and announced the exciting show ahead with Coldplay as the musical guest. It sounds like you had quite an adventure!'}\n"
     ]
    }
   ],
   "source": [
    "print(response)"
   ]
  },
  {
   "cell_type": "code",
   "execution_count": 75,
   "metadata": {},
   "outputs": [
    {
     "name": "stdout",
     "output_type": "stream",
     "text": [
      "It seems like you want to check your memory on a quiz related to Pedro Pascal. Here's the content of the quiz:\n",
      "\n",
      "1. What show did Pedro Pascal spend the last year shooting?\n",
      "   a) The Last of Us on HBO\n",
      "2. What did Pedro Pascal describe the creature chasing him in The Last of Us as?\n",
      "   a) A guy whose head looks like a genital wart\n",
      "3. What did a father ask Pedro Pascal to do when his son recognized him from The Mandalorian?\n",
      "   a) Do the Mando voice\n",
      "4. What did Pedro Pascal's cousins from Chile do that he had to correct?\n",
      "   a) They gave out his phone number to everyone they meet and asked him questions about Baby Yoda\n",
      "5. What did Pedro Pascal's parents do that allowed him to be in the U.S. and standing on the SNL stage?\n",
      "   a) They fled Chile and brought him and his sister to the U.S. nine months after he was born.\n",
      "\n",
      "Please let me know if you need any further assistance or if you're ready to provide the answers for me to check.\n"
     ]
    }
   ],
   "source": [
    "print(response[\"output\"])"
   ]
  },
  {
   "cell_type": "code",
   "execution_count": null,
   "metadata": {},
   "outputs": [],
   "source": []
  }
 ],
 "metadata": {
  "kernelspec": {
   "display_name": "env",
   "language": "python",
   "name": "python3"
  },
  "language_info": {
   "codemirror_mode": {
    "name": "ipython",
    "version": 3
   },
   "file_extension": ".py",
   "mimetype": "text/x-python",
   "name": "python",
   "nbconvert_exporter": "python",
   "pygments_lexer": "ipython3",
   "version": "3.12.1"
  }
 },
 "nbformat": 4,
 "nbformat_minor": 2
}
